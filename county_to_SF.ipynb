{
 "cells": [
  {
   "cell_type": "code",
   "execution_count": 2,
   "id": "0239b4a7",
   "metadata": {},
   "outputs": [],
   "source": [
    "import pandas as pd\n",
    "import numpy as np"
   ]
  },
  {
   "cell_type": "code",
   "execution_count": 3,
   "id": "b9170e63",
   "metadata": {},
   "outputs": [
    {
     "name": "stdout",
     "output_type": "stream",
     "text": [
      "LUC column dtype: object\n"
     ]
    }
   ],
   "source": [
    "# Load county data (already imported pandas in a previous cell)\n",
    "countydata = pd.read_csv('countycombined.csv', dtype=str)\n",
    "\n",
    "# Show the dtype of the original LUC column\n",
    "print('LUC column dtype:', countydata['LUC'].dtype)\n",
    "\n",
    "# Coerce LUC to numeric safely; non-numeric values become <NA>\n",
    "countydata['LUC_numeric'] = pd.to_numeric(countydata['LUC'], errors='coerce').astype('Int64')"
   ]
  },
  {
   "cell_type": "code",
   "execution_count": null,
   "id": "3f2268ed",
   "metadata": {},
   "outputs": [
    {
     "name": "stdout",
     "output_type": "stream",
     "text": [
      "Single Family Units (LUC == 110): 420782\n",
      "Multi Family Units (LUC in 114..120): 7242\n",
      "Non-numeric/missing LUC examples (up to 10): []\n"
     ]
    }
   ],
   "source": [
    "# Count single-family (LUC == 110)\n",
    "sf_units = countydata['LUC_numeric'].eq(110).sum()\n",
    "\n",
    "# Count multi-family using the intended range 114..120 (range end is inclusive)\n",
    "mf_units_114_121_inclusive = countydata['LUC_numeric'].between(114, 121).sum()\n",
    "\n",
    "print(f\"Single Family Units (LUC == 110): {sf_units}\")\n",
    "print(f\"Multi Family Units (LUC in 114..120): {mf_units_114_121_inclusive}\")"
   ]
  },
  {
   "cell_type": "code",
   "execution_count": 7,
   "id": "c79b675c",
   "metadata": {},
   "outputs": [],
   "source": [
    "#Create a new dataframe with only single family units identified by LUC equaliing 110 and export to CSV\n",
    "sf_df = countydata[countydata['LUC_numeric'] == 110]\n",
    "sf_df.to_csv('single_family_units.csv', index=False)"
   ]
  },
  {
   "cell_type": "code",
   "execution_count": 8,
   "id": "82c6064c",
   "metadata": {},
   "outputs": [],
   "source": [
    "#Create dataframe with SF and MF units and export to CSV\n",
    "mf_df = countydata[countydata['LUC_numeric'].between(114, 121)]\n",
    "sf_mf_df = pd.concat([sf_df, mf_df])\n",
    "sf_mf_df.to_csv('sf_mf_units.csv', index=False)"
   ]
  }
 ],
 "metadata": {
  "kernelspec": {
   "display_name": "Python 3",
   "language": "python",
   "name": "python3"
  },
  "language_info": {
   "codemirror_mode": {
    "name": "ipython",
    "version": 3
   },
   "file_extension": ".py",
   "mimetype": "text/x-python",
   "name": "python",
   "nbconvert_exporter": "python",
   "pygments_lexer": "ipython3",
   "version": "3.11.9"
  }
 },
 "nbformat": 4,
 "nbformat_minor": 5
}
