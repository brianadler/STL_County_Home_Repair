{
 "cells": [
  {
   "cell_type": "code",
   "execution_count": 42,
   "id": "3d1fa896",
   "metadata": {},
   "outputs": [],
   "source": [
    "import pandas as pd\n",
    "import numpy as np"
   ]
  },
  {
   "cell_type": "code",
   "execution_count": 43,
   "id": "9381d98c",
   "metadata": {},
   "outputs": [],
   "source": [
    "voterfile = pd.read_csv('ST LOUIS COUNTY - ALL REG VOTERS_CSV.csv', dtype=str)\n",
    "\n",
    "#Read in full county property file that includes all property types\n",
    "countydata = pd.read_csv('countycombined.csv', dtype=str)\n",
    "\n",
    "#Read in all residential units (SF and MF)\n",
    "all_residential = pd.read_csv('sf_mf_units.csv', dtype=str)\n",
    "\n",
    "#Read in single family csv only\n",
    "sf_df = pd.read_csv('single_family_units.csv', dtype=str)"
   ]
  },
  {
   "cell_type": "code",
   "execution_count": 44,
   "id": "4ca2e91b",
   "metadata": {},
   "outputs": [],
   "source": [
    "voterfile['full_address'] = voterfile['House Number'].str.strip() + ' ' + voterfile['Street Name'].str.strip() + ' ' + voterfile['Street Type'].str.strip()\n",
    "\n",
    "#full_address will merge with TAXADR in the countydata file"
   ]
  },
  {
   "cell_type": "code",
   "execution_count": 45,
   "id": "dbb08ec9",
   "metadata": {},
   "outputs": [],
   "source": [
    "merged = pd.merge(voterfile, sf_df, left_on='full_address', right_on='TAXADR', how='inner')"
   ]
  },
  {
   "cell_type": "code",
   "execution_count": 46,
   "id": "aa4e54ac",
   "metadata": {},
   "outputs": [
    {
     "name": "stdout",
     "output_type": "stream",
     "text": [
      "Both-name matches: 212505\n",
      "Last-name-only matches: 240795\n",
      "Sample both-name matches (first 5 rows):\n",
      "       full_address          OWNNAME First Name Last Name\n",
      "1     9714 AMBRO LN   WARD MICHAEL C    MICHAEL      WARD\n",
      "9   4074 DOMBARD LN    TOLES ORA MAE        ORA     TOLES\n",
      "10  4075 DOMBARD LN  BARRERA HENRY J      HENRY   BARRERA\n",
      "11  4078 DOMBARD LN    MCKINNEY EMMA       EMMA  MCKINNEY\n",
      "13  4082 DOMBARD LN  DIRKS PATRICK J    PATRICK     DIRKS\n"
     ]
    }
   ],
   "source": [
    "# This step will  perform matching between property owner name (single field) and voter name columns\n",
    "# Next step: I need to normalize names by removing punctuation, uppercase, and strip whitespace\n",
    "def normalize_series(s):\n",
    "    return s.fillna('').astype(str).str.replace(r'[^\\w\\s]', '', regex=True).str.upper().str.strip()\n",
    "\n",
    "# Create normalized owner and voter name fields\n",
    "merged['OWNER_norm'] = normalize_series(merged['OWNNAME'])\n",
    "owner_parts = merged['OWNER_norm'].str.split()\n",
    "merged['owner_last_name'] = owner_parts.str[0].fillna('')\n",
    "merged['owner_first_name'] = owner_parts.str[1].fillna('')\n",
    "\n",
    "merged['voter_last_name_norm'] = normalize_series(merged['Last Name'])\n",
    "merged['voter_first_name_norm'] = normalize_series(merged['First Name']).str.split().str[0].fillna('')\n",
    "\n",
    "# Build matching indicators\n",
    "merged['last_name_match'] = merged['voter_last_name_norm'] == merged['owner_last_name']\n",
    "merged['first_name_match'] = merged['voter_first_name_norm'] == merged['owner_first_name']\n",
    "merged['owner_voter_name_match'] = merged['last_name_match'] & merged['first_name_match']\n",
    "\n",
    "# Extract matched DataFrames\n",
    "matched_both = merged[merged['owner_voter_name_match']].copy()\n",
    "matched_last_only = merged[merged['last_name_match'] & ~merged['owner_voter_name_match']].copy()\n",
    "\n",
    "# Print counts and a small sample\n",
    "print(f'Both-name matches: {len(matched_both)}')\n",
    "print(f'Last-name-only matches: {len(matched_last_only)}')\n",
    "print('Sample both-name matches (first 5 rows):')\n",
    "print(matched_both[['full_address', 'OWNNAME', 'First Name', 'Last Name']].head())\n",
    "\n",
    "# Note: if owner naming conventions vary (e.g., 'FIRST LAST' or include multiple owners),"
   ]
  },
  {
   "cell_type": "code",
   "execution_count": 47,
   "id": "cd992c44",
   "metadata": {},
   "outputs": [],
   "source": [
    "merged.to_csv('merged_output.csv', index=False)"
   ]
  },
  {
   "cell_type": "code",
   "execution_count": null,
   "id": "7a27e46c",
   "metadata": {},
   "outputs": [
    {
     "data": {
      "text/html": [
       "<div>\n",
       "<style scoped>\n",
       "    .dataframe tbody tr th:only-of-type {\n",
       "        vertical-align: middle;\n",
       "    }\n",
       "\n",
       "    .dataframe tbody tr th {\n",
       "        vertical-align: top;\n",
       "    }\n",
       "\n",
       "    .dataframe thead th {\n",
       "        text-align: right;\n",
       "    }\n",
       "</style>\n",
       "<table border=\"1\" class=\"dataframe\">\n",
       "  <thead>\n",
       "    <tr style=\"text-align: right;\">\n",
       "      <th></th>\n",
       "      <th>Geo__geoid_</th>\n",
       "      <th>Geo_qname</th>\n",
       "      <th>Geo_TRACT</th>\n",
       "      <th>MedianIncome</th>\n",
       "      <th>income_level</th>\n",
       "    </tr>\n",
       "  </thead>\n",
       "  <tbody>\n",
       "    <tr>\n",
       "      <th>0</th>\n",
       "      <td>29189210101</td>\n",
       "      <td>Census Tract 2101.01, St. Louis County, Missouri</td>\n",
       "      <td>210101</td>\n",
       "      <td>73438</td>\n",
       "      <td>Medium</td>\n",
       "    </tr>\n",
       "    <tr>\n",
       "      <th>1</th>\n",
       "      <td>29189210102</td>\n",
       "      <td>Census Tract 2101.02, St. Louis County, Missouri</td>\n",
       "      <td>210102</td>\n",
       "      <td>55488</td>\n",
       "      <td>Low</td>\n",
       "    </tr>\n",
       "    <tr>\n",
       "      <th>2</th>\n",
       "      <td>29189210200</td>\n",
       "      <td>Census Tract 2102, St. Louis County, Missouri</td>\n",
       "      <td>210200</td>\n",
       "      <td>38600</td>\n",
       "      <td>Low</td>\n",
       "    </tr>\n",
       "    <tr>\n",
       "      <th>3</th>\n",
       "      <td>29189210300</td>\n",
       "      <td>Census Tract 2103, St. Louis County, Missouri</td>\n",
       "      <td>210300</td>\n",
       "      <td>55229</td>\n",
       "      <td>Low</td>\n",
       "    </tr>\n",
       "    <tr>\n",
       "      <th>4</th>\n",
       "      <td>29189210400</td>\n",
       "      <td>Census Tract 2104, St. Louis County, Missouri</td>\n",
       "      <td>210400</td>\n",
       "      <td>48185</td>\n",
       "      <td>Low</td>\n",
       "    </tr>\n",
       "    <tr>\n",
       "      <th>...</th>\n",
       "      <td>...</td>\n",
       "      <td>...</td>\n",
       "      <td>...</td>\n",
       "      <td>...</td>\n",
       "      <td>...</td>\n",
       "    </tr>\n",
       "    <tr>\n",
       "      <th>231</th>\n",
       "      <td>29189221631</td>\n",
       "      <td>Census Tract 2216.31, St. Louis County, Missouri</td>\n",
       "      <td>221631</td>\n",
       "      <td>107384</td>\n",
       "      <td>High</td>\n",
       "    </tr>\n",
       "    <tr>\n",
       "      <th>232</th>\n",
       "      <td>29189221800</td>\n",
       "      <td>Census Tract 2218, St. Louis County, Missouri</td>\n",
       "      <td>221800</td>\n",
       "      <td>36351</td>\n",
       "      <td>Low</td>\n",
       "    </tr>\n",
       "    <tr>\n",
       "      <th>233</th>\n",
       "      <td>29189221900</td>\n",
       "      <td>Census Tract 2219, St. Louis County, Missouri</td>\n",
       "      <td>221900</td>\n",
       "      <td>113261</td>\n",
       "      <td>High</td>\n",
       "    </tr>\n",
       "    <tr>\n",
       "      <th>234</th>\n",
       "      <td>29189222000</td>\n",
       "      <td>Census Tract 2220, St. Louis County, Missouri</td>\n",
       "      <td>222000</td>\n",
       "      <td>82188</td>\n",
       "      <td>Medium</td>\n",
       "    </tr>\n",
       "    <tr>\n",
       "      <th>235</th>\n",
       "      <td>29189222100</td>\n",
       "      <td>Census Tract 2221, St. Louis County, Missouri</td>\n",
       "      <td>222100</td>\n",
       "      <td>139967</td>\n",
       "      <td>High</td>\n",
       "    </tr>\n",
       "  </tbody>\n",
       "</table>\n",
       "<p>236 rows × 5 columns</p>\n",
       "</div>"
      ],
      "text/plain": [
       "     Geo__geoid_                                         Geo_qname  Geo_TRACT  \\\n",
       "0    29189210101  Census Tract 2101.01, St. Louis County, Missouri     210101   \n",
       "1    29189210102  Census Tract 2101.02, St. Louis County, Missouri     210102   \n",
       "2    29189210200     Census Tract 2102, St. Louis County, Missouri     210200   \n",
       "3    29189210300     Census Tract 2103, St. Louis County, Missouri     210300   \n",
       "4    29189210400     Census Tract 2104, St. Louis County, Missouri     210400   \n",
       "..           ...                                               ...        ...   \n",
       "231  29189221631  Census Tract 2216.31, St. Louis County, Missouri     221631   \n",
       "232  29189221800     Census Tract 2218, St. Louis County, Missouri     221800   \n",
       "233  29189221900     Census Tract 2219, St. Louis County, Missouri     221900   \n",
       "234  29189222000     Census Tract 2220, St. Louis County, Missouri     222000   \n",
       "235  29189222100     Census Tract 2221, St. Louis County, Missouri     222100   \n",
       "\n",
       "     MedianIncome income_level  \n",
       "0           73438       Medium  \n",
       "1           55488          Low  \n",
       "2           38600          Low  \n",
       "3           55229          Low  \n",
       "4           48185          Low  \n",
       "..            ...          ...  \n",
       "231        107384         High  \n",
       "232         36351          Low  \n",
       "233        113261         High  \n",
       "234         82188       Medium  \n",
       "235        139967         High  \n",
       "\n",
       "[236 rows x 5 columns]"
      ]
     },
     "execution_count": 48,
     "metadata": {},
     "output_type": "execute_result"
    }
   ],
   "source": [
    "#Divide tracts into low, medium, and high income levels\n",
    "tracts = pd.read_csv('median_income_tracts.csv')\n",
    "medianHH_2023 = 81340\n",
    "\n",
    "#Low income tracts are $66064 and below\n",
    "#Medium tracts are between $66065 and $102239\n",
    "#High income tracts are between $102240 and above\n",
    "\n",
    "# Define bins and labels\n",
    "bins = [-np.inf, 66711, 104888, np.inf] # Define the boundaries for low, medium, high\n",
    "labels = ['Low', 'Medium', 'High']\n",
    "\n",
    "tracts['income_level'] = pd.cut(tracts['MedianIncome'], bins=bins, labels=labels, right=False)\n",
    "tracts"
   ]
  },
  {
   "cell_type": "code",
   "execution_count": 49,
   "id": "39bd1b41",
   "metadata": {},
   "outputs": [],
   "source": [
    "tracts.to_csv('tracts_with_income_levels.csv', index=False)"
   ]
  },
  {
   "cell_type": "code",
   "execution_count": 74,
   "id": "3a16bb4d",
   "metadata": {},
   "outputs": [
    {
     "name": "stdout",
     "output_type": "stream",
     "text": [
      "Merged Voter Status values: ['Active' 'Inactive' nan]\n",
      "After filter - dropped_inactive Voter Status values: ['Active']\n",
      "After filter - dropped_inactive Voter Status values: ['Active']\n"
     ]
    }
   ],
   "source": [
    "# For each address, prefer a voter who matched the owner (last_name_match==True).\n",
    "# If no matched voter exists at that address, fall back to the first active voter.\n",
    "# First keep only Active voters\n",
    "active_voters = merged[merged['Voter Status'] == 'Active'].copy()\n",
    "dropped_inactive = active_voters\n",
    "\n",
    "#Print out the various entries under Voter Status to verify\n",
    "print('Merged Voter Status values:', merged['Voter Status'].unique())\n",
    "\n",
    "#Remove any remaining non-Active entries (safety - should be redundant)\n",
    "dropped_inactive = dropped_inactive[dropped_inactive['Voter Status'] == 'Active']\n",
    "print('After filter - dropped_inactive Voter Status values:', dropped_inactive['Voter Status'].unique())\n",
    "\n",
    "#Save the active unique voters to CSV\n",
    "dropped_inactive.to_csv('active_unique_voters.csv', index=False)"
   ]
  },
  {
   "cell_type": "code",
   "execution_count": 75,
   "id": "096036c3",
   "metadata": {},
   "outputs": [
    {
     "name": "stdout",
     "output_type": "stream",
     "text": [
      "Number of full matches in active voters: 208168\n",
      "Number of last name matches in active voters: 440553\n",
      "Full Name Match Ratio: 0.33026341048596797\n",
      "Last Name Match Ratio: 0.698947659005345\n"
     ]
    }
   ],
   "source": [
    "#Count the number of owner_voter_name_match true instances\n",
    "num_owner_voter_matches = dropped_inactive['owner_voter_name_match'].sum()\n",
    "num_last_name_matches = dropped_inactive['last_name_match'].sum()\n",
    "\n",
    "print(f'Number of full matches in active voters: {num_owner_voter_matches}')\n",
    "print(f'Number of last name matches in active voters: {num_last_name_matches}')\n",
    "\n",
    "print(f'Full Name Match Ratio: {num_owner_voter_matches / len(dropped_inactive)}')\n",
    "print(f'Last Name Match Ratio: {num_last_name_matches / len(dropped_inactive)}')\n",
    "\n",
    "#BECAUSE LAST NAME MATCH IS CLOSEST TO GENERAL HOMEOWNERSHIP RATE IN STL COUNTY PER STL FRED (~72.9), UTILIZE LAST NAME MATCH\n",
    "\n",
    "#Create a rentals column in the merged df for instances where all match types are false\n"
   ]
  },
  {
   "cell_type": "code",
   "execution_count": 78,
   "id": "349c600f",
   "metadata": {},
   "outputs": [
    {
     "name": "stderr",
     "output_type": "stream",
     "text": [
      "C:\\Users\\brian\\AppData\\Local\\Temp\\ipykernel_16684\\2378117706.py:16: FutureWarning: DataFrameGroupBy.apply operated on the grouping columns. This behavior is deprecated, and in a future version of pandas the grouping columns will be excluded from the operation. Either pass `include_groups=False` to exclude the groupings or explicitly select the grouping columns after groupby to silence this warning.\n",
      "  dropped_inactive = active_voters.groupby('full_address', group_keys=False).apply(choose_preferred).reset_index(drop=True)\n"
     ]
    }
   ],
   "source": [
    "#USE LAST NAME MATCH FOR DRILLDOWN INTO ONE UNIQUE ACTIVE VOTER PER ADDRESS\n",
    "# For each address, prefer a voter who matched the owner (last_name_match==True).\n",
    "# Ensure the match column exists; if not present create it and default to False\n",
    "\n",
    "if 'last_name_match' not in active_voters.columns:\n",
    "    active_voters['last_name_match'] = False\n",
    "\n",
    "# Define chooser: prefer first row where last_name_match is True, else first row in group\n",
    "def choose_preferred(group):\n",
    "    matched = group[group['last_name_match'] == True]\n",
    "    if not matched.empty:\n",
    "        return matched.iloc[[0]]\n",
    "    return group.iloc[[0]]\n",
    "\n",
    "# Apply per-address selection (group_keys=False to return concatenated rows)\n",
    "dropped_inactive = active_voters.groupby('full_address', group_keys=False).apply(choose_preferred).reset_index(drop=True)"
   ]
  },
  {
   "cell_type": "code",
   "execution_count": 79,
   "id": "73fa0549",
   "metadata": {},
   "outputs": [],
   "source": [
    "#Create a rentals column in the merged df for instances where all match types are false\n",
    "dropped_inactive['Rentals'] = dropped_inactive['last_name_match'] == False"
   ]
  },
  {
   "cell_type": "code",
   "execution_count": 80,
   "id": "0ed6f4ef",
   "metadata": {},
   "outputs": [
    {
     "name": "stdout",
     "output_type": "stream",
     "text": [
      "Length of dropped_inactive: 271059\n",
      "Length of merged_voters_and_tracts: 271059\n"
     ]
    }
   ],
   "source": [
    "#Create sample from tracts based on income levels and disproportionate stratified sampling\n",
    "#First merge voters with census tracts and income signifiers\n",
    "\n",
    "# Ensure both columns are int for merge\n",
    "dropped_inactive['TRACTCE20'] = dropped_inactive['TRACTCE20'].astype(float).astype('Int64')\n",
    "merged_voters_and_tracts = pd.merge(dropped_inactive, tracts, left_on='TRACTCE20', right_on='Geo_TRACT', how='inner')\n",
    "merged_voters_and_tracts\n",
    "#print length of dropped_inactive and merged_voters_and_tracts to verify no data loss\n",
    "print(f'Length of dropped_inactive: {len(dropped_inactive)}')\n",
    "print(f'Length of merged_voters_and_tracts: {len(merged_voters_and_tracts)}')"
   ]
  },
  {
   "cell_type": "code",
   "execution_count": null,
   "id": "a5f98c39",
   "metadata": {},
   "outputs": [
    {
     "data": {
      "text/plain": [
       "income_level\n",
       "High      109792\n",
       "Medium     92281\n",
       "Low        68986\n",
       "Name: count, dtype: int64"
      ]
     },
     "execution_count": 81,
     "metadata": {},
     "output_type": "execute_result"
    }
   ],
   "source": [
    "#Count number of instances in each income level\n",
    "#High: 109792\n",
    "#Medium: 92281\n",
    "#Low:  68986\n",
    "#Total: 271059\n",
    "#Desired sample size: 6000 total\n",
    "\n",
    "sampling_fraction = 0.022142\n",
    "low_sample = 3028\n",
    "medium_sample = 1859\n",
    "high_sample = 1113\n",
    "\n",
    "merged_voters_and_tracts['income_level'].value_counts()\n",
    "\n",
    "#Use sum of the low, medium, and high samples for actual sample size: 270,979"
   ]
  },
  {
   "cell_type": "code",
   "execution_count": 71,
   "id": "a29aabf2",
   "metadata": {},
   "outputs": [
    {
     "name": "stdout",
     "output_type": "stream",
     "text": [
      "Number of renters in final sample: 1536\n",
      "Percentage of renters in final sample: 25.60%\n",
      "Homeownership rate in final sample: 74.40%\n"
     ]
    }
   ],
   "source": [
    "#Retrieve low, medium, and high income samples at desired sample sizes randomly\n",
    "low_income_sample = merged_voters_and_tracts[merged_voters_and_tracts['income_level'] == 'Low'].sample(n=low_sample, random_state=1)\n",
    "medium_income_sample = merged_voters_and_tracts[merged_voters_and_tracts['income_level'] == 'Medium'].sample(n=medium_sample, random_state=1)\n",
    "high_income_sample = merged_voters_and_tracts[merged_voters_and_tracts['income_level'] == 'High'].sample(n=high_sample, random_state=1)\n",
    "\n",
    "#Create new dataframe with all samples\n",
    "final_sample = pd.concat([low_income_sample, medium_income_sample, high_income_sample])\n",
    "\n",
    "#Check counts\n",
    "final_sample['income_level'].value_counts()\n",
    "\n",
    "#Count number of renters in final sample\n",
    "num_renters_final_sample = final_sample['Rentals'].sum()\n",
    "print(f'Number of renters in final sample: {num_renters_final_sample}') \n",
    "#Convert number of renters into percentage of sample   \n",
    "renter_percentage = (num_renters_final_sample / len(final_sample)) * 100\n",
    "print(f'Percentage of renters in final sample: {renter_percentage:.2f}%')\n",
    "#Calculate homeownership rate as 1-renter_percentage\n",
    "homeownership_rate = 100 - renter_percentage\n",
    "print(f'Homeownership rate in final sample: {homeownership_rate:.2f}%')\n"
   ]
  },
  {
   "cell_type": "code",
   "execution_count": 72,
   "id": "284bebe2",
   "metadata": {},
   "outputs": [],
   "source": [
    "\n",
    "#Export final sample to CSV\n",
    "final_sample.to_csv('final_sample.csv', index=False)"
   ]
  }
 ],
 "metadata": {
  "kernelspec": {
   "display_name": "Python 3",
   "language": "python",
   "name": "python3"
  },
  "language_info": {
   "codemirror_mode": {
    "name": "ipython",
    "version": 3
   },
   "file_extension": ".py",
   "mimetype": "text/x-python",
   "name": "python",
   "nbconvert_exporter": "python",
   "pygments_lexer": "ipython3",
   "version": "3.11.9"
  }
 },
 "nbformat": 4,
 "nbformat_minor": 5
}
